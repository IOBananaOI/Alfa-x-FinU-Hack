{
 "cells": [
  {
   "metadata": {
    "ExecuteTime": {
     "end_time": "2024-04-14T17:55:53.704130Z",
     "start_time": "2024-04-14T17:55:53.439782Z"
    }
   },
   "cell_type": "code",
   "source": [
    "import warnings\n",
    "\n",
    "warnings.filterwarnings('ignore')\n",
    "\n",
    "import numpy as np\n",
    "import pandas as pd\n",
    "\n",
    "from catboost import CatBoostClassifier, Pool\n",
    "\n",
    "from sklearn.model_selection import train_test_split\n",
    "from sklearn.preprocessing import LabelEncoder\n",
    "from sklearn.model_selection import StratifiedKFold\n",
    "from scipy.stats.mstats import winsorize\n",
    "from featexp import get_trend_stats, get_univariate_plots\n",
    "\n",
    "from utils import fill_na, reshape_dataset, weighted_roc_auc, fill_start_cluster"
   ],
   "outputs": [],
   "execution_count": 1
  },
  {
   "metadata": {
    "ExecuteTime": {
     "end_time": "2024-04-14T17:55:53.707147Z",
     "start_time": "2024-04-14T17:55:53.704637Z"
    }
   },
   "cell_type": "code",
   "source": [
    "#Settings\n",
    "FILL_NAN_ON_ALL_DATA = True"
   ],
   "outputs": [],
   "execution_count": 2
  },
  {
   "metadata": {},
   "cell_type": "markdown",
   "source": [
    "# Combined"
   ]
  },
  {
   "metadata": {
    "ExecuteTime": {
     "end_time": "2024-04-14T17:55:54.621945Z",
     "start_time": "2024-04-14T17:55:53.707892Z"
    }
   },
   "cell_type": "code",
   "source": [
    "train_df_raw = pd.read_parquet(\"data/train_data.pqt\")\n",
    "test_df_raw = pd.read_parquet(\"data/test_data.pqt\")"
   ],
   "outputs": [],
   "execution_count": 3
  },
  {
   "metadata": {
    "ExecuteTime": {
     "end_time": "2024-04-14T17:55:54.735481Z",
     "start_time": "2024-04-14T17:55:54.622686Z"
    }
   },
   "cell_type": "code",
   "source": [
    "train_df_raw['is_train'] = 1\n",
    "test_df_raw['is_train'] = 0\n",
    "\n",
    "combined_df = pd.concat([train_df_raw, test_df_raw], ignore_index=True)"
   ],
   "outputs": [],
   "execution_count": 4
  },
  {
   "metadata": {
    "ExecuteTime": {
     "end_time": "2024-04-14T17:55:54.740966Z",
     "start_time": "2024-04-14T17:55:54.735991Z"
    }
   },
   "cell_type": "code",
   "source": [
    "train_mask = combined_df['is_train'] == 1\n",
    "test_mask = combined_df['is_train'] == 0"
   ],
   "outputs": [],
   "execution_count": 5
  },
  {
   "metadata": {},
   "cell_type": "markdown",
   "source": [
    "Filling NaN values separately for the train and test"
   ]
  },
  {
   "metadata": {
    "ExecuteTime": {
     "end_time": "2024-04-14T17:55:54.939706Z",
     "start_time": "2024-04-14T17:55:54.741475Z"
    }
   },
   "cell_type": "code",
   "source": [
    "end_cluster = combined_df['end_cluster']\n",
    "start_cluster = combined_df['start_cluster']\n",
    "combined_df.drop(columns=['end_cluster', 'start_cluster'], inplace=True)"
   ],
   "outputs": [],
   "execution_count": 6
  },
  {
   "metadata": {
    "ExecuteTime": {
     "end_time": "2024-04-14T17:55:57.582093Z",
     "start_time": "2024-04-14T17:55:54.940456Z"
    }
   },
   "cell_type": "code",
   "source": [
    "if FILL_NAN_ON_ALL_DATA:\n",
    "    combined_df = fill_na(combined_df, for_num='mean', for_object='None')  #fill both\n",
    "else:\n",
    "    combined_df.loc[train_mask] = fill_na(combined_df.loc[train_mask], for_num='mean', for_object='None')\n",
    "\n",
    "    test_indexes = pd.Index(\n",
    "        range(combined_df.loc[train_mask].shape[0],\n",
    "              combined_df.loc[train_mask].shape[0] + combined_df.loc[test_mask].shape[0]))\n",
    "    combined_df.loc[test_mask] = fill_na(combined_df.loc[test_mask], for_num='mean', for_object='None').set_index(\n",
    "        test_indexes)"
   ],
   "outputs": [],
   "execution_count": 7
  },
  {
   "metadata": {
    "ExecuteTime": {
     "end_time": "2024-04-14T17:55:57.593353Z",
     "start_time": "2024-04-14T17:55:57.582835Z"
    }
   },
   "cell_type": "code",
   "source": [
    "combined_df['start_cluster'] = start_cluster\n",
    "combined_df['end_cluster'] = end_cluster"
   ],
   "outputs": [],
   "execution_count": 8
  },
  {
   "metadata": {
    "ExecuteTime": {
     "end_time": "2024-04-14T17:55:57.794254Z",
     "start_time": "2024-04-14T17:55:57.594099Z"
    }
   },
   "cell_type": "code",
   "source": [
    "columns_to_drop = ['index_city_code', 'balance_amt_max', 'balance_amt_day_avg', 'city_type']\n",
    "combined_df.drop(columns=columns_to_drop, inplace=True)"
   ],
   "outputs": [],
   "execution_count": 9
  },
  {
   "metadata": {},
   "cell_type": "markdown",
   "source": [
    "Handling outliers"
   ]
  },
  {
   "metadata": {
    "ExecuteTime": {
     "end_time": "2024-04-14T17:55:57.894490Z",
     "start_time": "2024-04-14T17:55:57.794761Z"
    }
   },
   "cell_type": "code",
   "source": [
    "combined_df.loc[train_mask, 'balance_amt_min'] = winsorize(combined_df.loc[train_mask, 'balance_amt_min'], (0, 0.01))\n",
    "combined_df.loc[train_mask, 'balance_amt_avg'] = winsorize(combined_df.loc[train_mask, 'balance_amt_avg'], (0, 0.03))"
   ],
   "outputs": [],
   "execution_count": 10
  },
  {
   "metadata": {
    "ExecuteTime": {
     "end_time": "2024-04-14T17:55:57.993525Z",
     "start_time": "2024-04-14T17:55:57.894999Z"
    }
   },
   "cell_type": "code",
   "source": [
    "combined_df['date'] = combined_df['date'].replace({'month_4': 'month_1', 'month_5': 'month_2', 'month_6': 'month_3'})"
   ],
   "outputs": [],
   "execution_count": 11
  },
  {
   "metadata": {},
   "cell_type": "markdown",
   "source": [
    "# Pivot"
   ]
  },
  {
   "metadata": {},
   "cell_type": "markdown",
   "source": [
    "Combining rows in the pivot table"
   ]
  },
  {
   "metadata": {
    "ExecuteTime": {
     "end_time": "2024-04-14T17:55:58.177868Z",
     "start_time": "2024-04-14T17:55:57.994276Z"
    }
   },
   "cell_type": "code",
   "source": [
    "end_cluster_for_train = combined_df.loc[train_mask, 'end_cluster'][2::3]\n",
    "combined_df.drop(columns=['end_cluster'], inplace=True)"
   ],
   "outputs": [],
   "execution_count": 12
  },
  {
   "metadata": {
    "ExecuteTime": {
     "end_time": "2024-04-14T17:56:02.490474Z",
     "start_time": "2024-04-14T17:55:58.178618Z"
    }
   },
   "cell_type": "code",
   "source": [
    "combined_df_pivot = reshape_dataset(combined_df, transform_categories=False, drop_month_3=False)"
   ],
   "outputs": [],
   "execution_count": 13
  },
  {
   "metadata": {
    "ExecuteTime": {
     "end_time": "2024-04-14T17:56:02.634196Z",
     "start_time": "2024-04-14T17:56:02.491224Z"
    }
   },
   "cell_type": "code",
   "source": [
    "combine_mask = combined_df_pivot[['is_train_month_1', 'is_train_month_2', 'is_train_month_3']].fillna(0).any(axis=1)\n",
    "combined_df_pivot['is_train'] = combine_mask.astype(int)\n",
    "combined_df_pivot.drop(columns=['is_train_month_1', 'is_train_month_2', 'is_train_month_3'], inplace=True)"
   ],
   "outputs": [],
   "execution_count": 14
  },
  {
   "metadata": {
    "ExecuteTime": {
     "end_time": "2024-04-14T17:56:02.638736Z",
     "start_time": "2024-04-14T17:56:02.634196Z"
    }
   },
   "cell_type": "code",
   "source": [
    "train_pivot_mask = combined_df_pivot['is_train'] == 1\n",
    "test_pivot_mask = combined_df_pivot['is_train'] == 0"
   ],
   "outputs": [],
   "execution_count": 15
  },
  {
   "metadata": {},
   "cell_type": "markdown",
   "source": [
    "Filling start cluster for month_6"
   ]
  },
  {
   "metadata": {
    "ExecuteTime": {
     "end_time": "2024-04-14T17:56:05.001558Z",
     "start_time": "2024-04-14T17:56:02.639244Z"
    }
   },
   "cell_type": "code",
   "source": [
    "filled_result = fill_start_cluster(combined_df_pivot.loc[test_pivot_mask].drop(columns=['is_train']))\n",
    "combined_df_pivot.update(filled_result)"
   ],
   "outputs": [],
   "execution_count": 16
  },
  {
   "metadata": {},
   "cell_type": "markdown",
   "source": [
    "Filling NaN rows separately for the train and test"
   ]
  },
  {
   "metadata": {
    "ExecuteTime": {
     "end_time": "2024-04-14T17:56:06.407190Z",
     "start_time": "2024-04-14T17:56:05.002070Z"
    }
   },
   "cell_type": "code",
   "source": [
    "if FILL_NAN_ON_ALL_DATA:\n",
    "    combined_df_pivot = fill_na(combined_df_pivot, for_num='mean', for_object='None')  #fill both\n",
    "else:\n",
    "    combined_df_pivot.loc[train_pivot_mask] = fill_na(combined_df_pivot.loc[train_pivot_mask], for_num='mean',\n",
    "                                                      for_object='None')  #doing nothing because no none\n",
    "\n",
    "    test_pivot_indexes = pd.Index(range(combined_df_pivot.loc[train_pivot_mask].shape[0],\n",
    "                                        combined_df_pivot.loc[train_pivot_mask].shape[0] +\n",
    "                                        combined_df_pivot.loc[test_pivot_mask].shape[0]))\n",
    "    combined_df_pivot.loc[test_pivot_mask] = fill_na(combined_df_pivot.loc[test_pivot_mask], for_num='mean',\n",
    "                                                     for_object='None').set_index(test_pivot_indexes)"
   ],
   "outputs": [],
   "execution_count": 17
  },
  {
   "metadata": {},
   "cell_type": "markdown",
   "source": [
    "# Find features to drop"
   ]
  },
  {
   "metadata": {
    "ExecuteTime": {
     "end_time": "2024-04-14T17:56:06.539160Z",
     "start_time": "2024-04-14T17:56:06.407936Z"
    }
   },
   "cell_type": "code",
   "source": [
    "combined_df_pivot.drop(columns=['id'], inplace=True)"
   ],
   "outputs": [],
   "execution_count": 18
  },
  {
   "metadata": {},
   "cell_type": "markdown",
   "source": [
    "Find trend stats"
   ]
  },
  {
   "metadata": {
    "ExecuteTime": {
     "end_time": "2024-04-14T17:56:06.765433Z",
     "start_time": "2024-04-14T17:56:06.539668Z"
    }
   },
   "cell_type": "code",
   "source": [
    "le = LabelEncoder()\n",
    "y_trend_stats = pd.DataFrame(le.fit_transform(end_cluster_for_train), columns=['end_cluster'])\n",
    "X_trend_stats = combined_df_pivot[combined_df_pivot['is_train'] == 1].drop(columns=['is_train'])\n",
    "data = pd.concat([X_trend_stats, y_trend_stats], axis=1)"
   ],
   "outputs": [],
   "execution_count": 19
  },
  {
   "metadata": {
    "ExecuteTime": {
     "end_time": "2024-04-14T17:56:07.514701Z",
     "start_time": "2024-04-14T17:56:06.766182Z"
    }
   },
   "cell_type": "code",
   "source": [
    "train, test = train_test_split(data, test_size=0.3, shuffle=True, random_state=42, stratify=y_trend_stats)"
   ],
   "outputs": [],
   "execution_count": 20
  },
  {
   "metadata": {
    "ExecuteTime": {
     "end_time": "2024-04-14T17:56:07.544236Z",
     "start_time": "2024-04-14T17:56:07.515208Z"
    }
   },
   "cell_type": "code",
   "source": [
    "num_cols = data.select_dtypes(include=['float32', 'int32'])"
   ],
   "outputs": [],
   "execution_count": 21
  },
  {
   "metadata": {
    "ExecuteTime": {
     "end_time": "2024-04-14T17:56:23.592249Z",
     "start_time": "2024-04-14T17:56:07.544980Z"
    }
   },
   "cell_type": "code",
   "source": [
    "stats = get_trend_stats(train, data_test=test, features_list=num_cols, target_col='end_cluster')"
   ],
   "outputs": [
    {
     "name": "stdout",
     "output_type": "stream",
     "text": [
      "Categorical features ['end_cluster'] ignored. Categorical features not supported yet.\n",
      "Returning stats for all numeric features\n"
     ]
    }
   ],
   "execution_count": 22
  },
  {
   "metadata": {},
   "cell_type": "markdown",
   "source": [
    "Drop features with low trend correlation"
   ]
  },
  {
   "metadata": {
    "ExecuteTime": {
     "end_time": "2024-04-14T17:56:23.599258Z",
     "start_time": "2024-04-14T17:56:23.592761Z"
    }
   },
   "cell_type": "code",
   "source": [
    "threshold = 0.9\n",
    "features_to_drop = stats[stats['Trend_correlation'] < 0.9]['Feature']\n",
    "features_to_drop"
   ],
   "outputs": [
    {
     "data": {
      "text/plain": [
       "141      ogrn_days_end_month_month_1\n",
       "142      ogrn_days_end_month_month_2\n",
       "143      ogrn_days_end_month_month_3\n",
       "144    ogrn_days_end_quarter_month_1\n",
       "145    ogrn_days_end_quarter_month_2\n",
       "146    ogrn_days_end_quarter_month_3\n",
       "Name: Feature, dtype: object"
      ]
     },
     "execution_count": 23,
     "metadata": {},
     "output_type": "execute_result"
    }
   ],
   "execution_count": 23
  },
  {
   "metadata": {
    "ExecuteTime": {
     "end_time": "2024-04-14T17:56:23.725137Z",
     "start_time": "2024-04-14T17:56:23.599868Z"
    }
   },
   "cell_type": "code",
   "source": [
    "combined_df_pivot = combined_df_pivot.drop(features_to_drop, axis=1)"
   ],
   "outputs": [],
   "execution_count": 24
  },
  {
   "metadata": {},
   "cell_type": "markdown",
   "source": [
    "# Split "
   ]
  },
  {
   "metadata": {
    "ExecuteTime": {
     "end_time": "2024-04-14T17:56:24.171940Z",
     "start_time": "2024-04-14T17:56:23.727412Z"
    }
   },
   "cell_type": "code",
   "source": [
    "category_columns = combined_df_pivot.select_dtypes(include=['category', 'O']).columns\n",
    "combined_df_pivot[category_columns] = combined_df_pivot[category_columns].astype(\"category\")"
   ],
   "outputs": [],
   "execution_count": 25
  },
  {
   "metadata": {
    "ExecuteTime": {
     "end_time": "2024-04-14T17:56:24.449633Z",
     "start_time": "2024-04-14T17:56:24.173440Z"
    }
   },
   "cell_type": "code",
   "source": [
    "train_df_pivot = combined_df_pivot[combined_df_pivot['is_train'] == 1].copy()\n",
    "test_df_pivot = combined_df_pivot[combined_df_pivot['is_train'] == 0].copy()\n",
    "\n",
    "train_df_pivot.drop(columns=['is_train'], inplace=True)\n",
    "test_df_pivot.drop(columns=['is_train'], inplace=True)"
   ],
   "outputs": [],
   "execution_count": 26
  },
  {
   "metadata": {},
   "cell_type": "markdown",
   "source": [
    "# Train"
   ]
  },
  {
   "metadata": {
    "ExecuteTime": {
     "end_time": "2024-04-14T17:56:24.453159Z",
     "start_time": "2024-04-14T17:56:24.450378Z"
    }
   },
   "cell_type": "code",
   "source": [
    "X = train_df_pivot\n",
    "y = end_cluster_for_train"
   ],
   "outputs": [],
   "execution_count": 27
  },
  {
   "metadata": {
    "ExecuteTime": {
     "end_time": "2024-04-14T17:56:24.457740Z",
     "start_time": "2024-04-14T17:56:24.453667Z"
    }
   },
   "cell_type": "code",
   "source": [
    "cat_cols = train_df_pivot.iloc[:, (train_df_pivot.dtypes == 'category').values].columns.to_list()"
   ],
   "outputs": [],
   "execution_count": 28
  },
  {
   "cell_type": "code",
   "metadata": {
    "ExecuteTime": {
     "end_time": "2024-04-14T17:56:24.461596Z",
     "start_time": "2024-04-14T17:56:24.458490Z"
    }
   },
   "source": [
    "catboost = CatBoostClassifier(iterations=5000,\n",
    "                              cat_features=cat_cols,\n",
    "                              task_type=\"GPU\", verbose=100, learning_rate=0.05, use_best_model=True)"
   ],
   "outputs": [],
   "execution_count": 29
  },
  {
   "cell_type": "code",
   "metadata": {
    "ExecuteTime": {
     "end_time": "2024-04-14T18:12:02.896729Z",
     "start_time": "2024-04-14T17:56:24.462110Z"
    }
   },
   "source": [
    "dct = {}\n",
    "kf = StratifiedKFold(3, shuffle=True)\n",
    "\n",
    "for train_index, test_index in kf.split(X=X, y=y):\n",
    "    X_train, X_test = X.iloc[train_index], X.iloc[test_index]\n",
    "    y_train, y_test = y.iloc[train_index], y.iloc[test_index]\n",
    "\n",
    "    train_dataset = Pool(data=X_train, label=y_train, cat_features=cat_cols)\n",
    "    eval_dataset = Pool(data=X_test, label=y_test, cat_features=cat_cols)\n",
    "\n",
    "    catboost.fit(train_dataset, eval_set=eval_dataset, use_best_model=True)\n",
    "    y_pred = catboost.predict_proba(X_test)\n",
    "    clf_checkpoint = catboost.copy()\n",
    "    score = weighted_roc_auc(y_test, y_pred, labels=catboost.classes_)\n",
    "\n",
    "    dct[score] = clf_checkpoint\n",
    "    print(score)"
   ],
   "outputs": [
    {
     "name": "stdout",
     "output_type": "stream",
     "text": [
      "0:\tlearn: 2.4262678\ttest: 2.4268191\tbest: 2.4268191 (0)\ttotal: 75.6ms\tremaining: 6m 18s\n",
      "100:\tlearn: 0.8425914\ttest: 0.8520884\tbest: 0.8520884 (100)\ttotal: 6.8s\tremaining: 5m 30s\n",
      "200:\tlearn: 0.8092537\ttest: 0.8283874\tbest: 0.8283874 (200)\ttotal: 13.2s\tremaining: 5m 16s\n",
      "300:\tlearn: 0.7914229\ttest: 0.8195592\tbest: 0.8195592 (300)\ttotal: 19.6s\tremaining: 5m 6s\n",
      "400:\tlearn: 0.7807425\ttest: 0.8154591\tbest: 0.8154591 (400)\ttotal: 25.6s\tremaining: 4m 53s\n",
      "500:\tlearn: 0.7719965\ttest: 0.8128785\tbest: 0.8128785 (500)\ttotal: 31.6s\tremaining: 4m 43s\n",
      "600:\tlearn: 0.7651265\ttest: 0.8111969\tbest: 0.8111969 (600)\ttotal: 37.5s\tremaining: 4m 34s\n",
      "700:\tlearn: 0.7585087\ttest: 0.8099040\tbest: 0.8099040 (700)\ttotal: 43.3s\tremaining: 4m 25s\n",
      "800:\tlearn: 0.7523108\ttest: 0.8088095\tbest: 0.8088052 (799)\ttotal: 49.1s\tremaining: 4m 17s\n",
      "900:\tlearn: 0.7461471\ttest: 0.8080731\tbest: 0.8080731 (900)\ttotal: 54.9s\tremaining: 4m 9s\n",
      "1000:\tlearn: 0.7406925\ttest: 0.8075093\tbest: 0.8075037 (997)\ttotal: 1m\tremaining: 4m 2s\n",
      "1100:\tlearn: 0.7345137\ttest: 0.8069507\tbest: 0.8069507 (1100)\ttotal: 1m 6s\tremaining: 3m 55s\n",
      "1200:\tlearn: 0.7289893\ttest: 0.8064643\tbest: 0.8064591 (1198)\ttotal: 1m 12s\tremaining: 3m 49s\n",
      "1300:\tlearn: 0.7236196\ttest: 0.8061116\tbest: 0.8061116 (1300)\ttotal: 1m 18s\tremaining: 3m 43s\n",
      "1400:\tlearn: 0.7187924\ttest: 0.8057538\tbest: 0.8057459 (1399)\ttotal: 1m 24s\tremaining: 3m 36s\n",
      "1500:\tlearn: 0.7136850\ttest: 0.8053457\tbest: 0.8053396 (1499)\ttotal: 1m 30s\tremaining: 3m 30s\n",
      "1600:\tlearn: 0.7087014\ttest: 0.8051051\tbest: 0.8051039 (1598)\ttotal: 1m 36s\tremaining: 3m 24s\n",
      "1700:\tlearn: 0.7037260\ttest: 0.8049637\tbest: 0.8049462 (1655)\ttotal: 1m 42s\tremaining: 3m 18s\n",
      "1800:\tlearn: 0.6985127\ttest: 0.8049628\tbest: 0.8049054 (1777)\ttotal: 1m 48s\tremaining: 3m 12s\n",
      "1900:\tlearn: 0.6935164\ttest: 0.8048476\tbest: 0.8048476 (1900)\ttotal: 1m 54s\tremaining: 3m 6s\n",
      "2000:\tlearn: 0.6889694\ttest: 0.8047796\tbest: 0.8047329 (1966)\ttotal: 2m\tremaining: 2m 59s\n",
      "2100:\tlearn: 0.6845279\ttest: 0.8048050\tbest: 0.8047329 (1966)\ttotal: 2m 5s\tremaining: 2m 53s\n",
      "2200:\tlearn: 0.6799164\ttest: 0.8047545\tbest: 0.8047225 (2154)\ttotal: 2m 12s\tremaining: 2m 47s\n",
      "2300:\tlearn: 0.6752981\ttest: 0.8048581\tbest: 0.8047225 (2154)\ttotal: 2m 18s\tremaining: 2m 41s\n",
      "2400:\tlearn: 0.6707001\ttest: 0.8049515\tbest: 0.8047225 (2154)\ttotal: 2m 24s\tremaining: 2m 35s\n",
      "2500:\tlearn: 0.6662803\ttest: 0.8049735\tbest: 0.8047225 (2154)\ttotal: 2m 30s\tremaining: 2m 30s\n",
      "2600:\tlearn: 0.6618369\ttest: 0.8050529\tbest: 0.8047225 (2154)\ttotal: 2m 36s\tremaining: 2m 24s\n",
      "2700:\tlearn: 0.6571634\ttest: 0.8050822\tbest: 0.8047225 (2154)\ttotal: 2m 42s\tremaining: 2m 18s\n",
      "2800:\tlearn: 0.6528710\ttest: 0.8051635\tbest: 0.8047225 (2154)\ttotal: 2m 48s\tremaining: 2m 12s\n",
      "2900:\tlearn: 0.6482295\ttest: 0.8052808\tbest: 0.8047225 (2154)\ttotal: 2m 54s\tremaining: 2m 6s\n",
      "3000:\tlearn: 0.6438276\ttest: 0.8054712\tbest: 0.8047225 (2154)\ttotal: 3m\tremaining: 2m\n",
      "3100:\tlearn: 0.6396428\ttest: 0.8056672\tbest: 0.8047225 (2154)\ttotal: 3m 6s\tremaining: 1m 54s\n",
      "3200:\tlearn: 0.6354792\ttest: 0.8057596\tbest: 0.8047225 (2154)\ttotal: 3m 13s\tremaining: 1m 48s\n",
      "3300:\tlearn: 0.6315886\ttest: 0.8059453\tbest: 0.8047225 (2154)\ttotal: 3m 19s\tremaining: 1m 42s\n",
      "3400:\tlearn: 0.6275527\ttest: 0.8061588\tbest: 0.8047225 (2154)\ttotal: 3m 25s\tremaining: 1m 36s\n",
      "3500:\tlearn: 0.6233273\ttest: 0.8064469\tbest: 0.8047225 (2154)\ttotal: 3m 31s\tremaining: 1m 30s\n",
      "3600:\tlearn: 0.6190710\ttest: 0.8065986\tbest: 0.8047225 (2154)\ttotal: 3m 37s\tremaining: 1m 24s\n",
      "3700:\tlearn: 0.6148717\ttest: 0.8068488\tbest: 0.8047225 (2154)\ttotal: 3m 43s\tremaining: 1m 18s\n",
      "3800:\tlearn: 0.6110500\ttest: 0.8071173\tbest: 0.8047225 (2154)\ttotal: 3m 50s\tremaining: 1m 12s\n",
      "3900:\tlearn: 0.6069786\ttest: 0.8073523\tbest: 0.8047225 (2154)\ttotal: 3m 56s\tremaining: 1m 6s\n",
      "4000:\tlearn: 0.6030114\ttest: 0.8076260\tbest: 0.8047225 (2154)\ttotal: 4m 2s\tremaining: 1m\n",
      "4100:\tlearn: 0.5990621\ttest: 0.8079128\tbest: 0.8047225 (2154)\ttotal: 4m 9s\tremaining: 54.8s\n",
      "4200:\tlearn: 0.5954388\ttest: 0.8082544\tbest: 0.8047225 (2154)\ttotal: 4m 16s\tremaining: 48.7s\n",
      "4300:\tlearn: 0.5914777\ttest: 0.8085800\tbest: 0.8047225 (2154)\ttotal: 4m 22s\tremaining: 42.7s\n",
      "4400:\tlearn: 0.5875756\ttest: 0.8088278\tbest: 0.8047225 (2154)\ttotal: 4m 28s\tremaining: 36.6s\n",
      "4500:\tlearn: 0.5836535\ttest: 0.8091485\tbest: 0.8047225 (2154)\ttotal: 4m 35s\tremaining: 30.5s\n",
      "4600:\tlearn: 0.5799123\ttest: 0.8095195\tbest: 0.8047225 (2154)\ttotal: 4m 41s\tremaining: 24.4s\n",
      "4700:\tlearn: 0.5761367\ttest: 0.8097820\tbest: 0.8047225 (2154)\ttotal: 4m 48s\tremaining: 18.3s\n",
      "4800:\tlearn: 0.5723736\ttest: 0.8101045\tbest: 0.8047225 (2154)\ttotal: 4m 54s\tremaining: 12.2s\n",
      "4900:\tlearn: 0.5685728\ttest: 0.8104632\tbest: 0.8047225 (2154)\ttotal: 5m 1s\tremaining: 6.08s\n",
      "4999:\tlearn: 0.5650403\ttest: 0.8108119\tbest: 0.8047225 (2154)\ttotal: 5m 7s\tremaining: 0us\n",
      "bestTest = 0.8047224803\n",
      "bestIteration = 2154\n",
      "Shrink model to first 2155 iterations.\n",
      "0.8994552638748404\n",
      "0:\tlearn: 2.4274685\ttest: 2.4272949\tbest: 2.4272949 (0)\ttotal: 64.9ms\tremaining: 5m 24s\n",
      "100:\tlearn: 0.8413532\ttest: 0.8518528\tbest: 0.8518528 (100)\ttotal: 7.11s\tremaining: 5m 44s\n",
      "200:\tlearn: 0.8082816\ttest: 0.8286791\tbest: 0.8286791 (200)\ttotal: 13.9s\tremaining: 5m 30s\n",
      "300:\tlearn: 0.7919493\ttest: 0.8205649\tbest: 0.8205649 (300)\ttotal: 20.2s\tremaining: 5m 15s\n",
      "400:\tlearn: 0.7808248\ttest: 0.8160965\tbest: 0.8160965 (400)\ttotal: 26.5s\tremaining: 5m 4s\n",
      "500:\tlearn: 0.7724126\ttest: 0.8137371\tbest: 0.8137371 (500)\ttotal: 32.6s\tremaining: 4m 52s\n",
      "600:\tlearn: 0.7653785\ttest: 0.8120257\tbest: 0.8120257 (600)\ttotal: 38.7s\tremaining: 4m 42s\n",
      "700:\tlearn: 0.7587276\ttest: 0.8108149\tbest: 0.8108149 (700)\ttotal: 44.7s\tremaining: 4m 33s\n",
      "800:\tlearn: 0.7529019\ttest: 0.8098593\tbest: 0.8098584 (799)\ttotal: 50.7s\tremaining: 4m 25s\n",
      "900:\tlearn: 0.7471107\ttest: 0.8089958\tbest: 0.8089958 (900)\ttotal: 57s\tremaining: 4m 19s\n",
      "1000:\tlearn: 0.7414873\ttest: 0.8083608\tbest: 0.8083608 (1000)\ttotal: 1m 2s\tremaining: 4m 11s\n",
      "1100:\tlearn: 0.7360502\ttest: 0.8078435\tbest: 0.8078435 (1100)\ttotal: 1m 9s\tremaining: 4m 4s\n",
      "1200:\tlearn: 0.7305590\ttest: 0.8072855\tbest: 0.8072855 (1200)\ttotal: 1m 15s\tremaining: 3m 57s\n",
      "1300:\tlearn: 0.7252658\ttest: 0.8068988\tbest: 0.8068916 (1298)\ttotal: 1m 21s\tremaining: 3m 52s\n",
      "1400:\tlearn: 0.7197892\ttest: 0.8065066\tbest: 0.8065066 (1400)\ttotal: 1m 27s\tremaining: 3m 45s\n",
      "1500:\tlearn: 0.7146137\ttest: 0.8062590\tbest: 0.8062400 (1490)\ttotal: 1m 33s\tremaining: 3m 39s\n",
      "1600:\tlearn: 0.7096085\ttest: 0.8060145\tbest: 0.8059929 (1596)\ttotal: 1m 40s\tremaining: 3m 32s\n",
      "1700:\tlearn: 0.7045597\ttest: 0.8059020\tbest: 0.8058819 (1688)\ttotal: 1m 46s\tremaining: 3m 25s\n",
      "1800:\tlearn: 0.6997324\ttest: 0.8057920\tbest: 0.8057891 (1798)\ttotal: 1m 52s\tremaining: 3m 19s\n",
      "1900:\tlearn: 0.6948771\ttest: 0.8057116\tbest: 0.8056822 (1879)\ttotal: 1m 58s\tremaining: 3m 12s\n",
      "2000:\tlearn: 0.6899262\ttest: 0.8056862\tbest: 0.8056801 (1997)\ttotal: 2m 4s\tremaining: 3m 6s\n",
      "2100:\tlearn: 0.6851364\ttest: 0.8056283\tbest: 0.8056044 (2080)\ttotal: 2m 10s\tremaining: 2m 59s\n",
      "2200:\tlearn: 0.6807875\ttest: 0.8056600\tbest: 0.8056044 (2080)\ttotal: 2m 16s\tremaining: 2m 53s\n",
      "2300:\tlearn: 0.6763672\ttest: 0.8056650\tbest: 0.8056044 (2080)\ttotal: 2m 22s\tremaining: 2m 46s\n",
      "2400:\tlearn: 0.6721021\ttest: 0.8057383\tbest: 0.8056044 (2080)\ttotal: 2m 28s\tremaining: 2m 40s\n",
      "2500:\tlearn: 0.6675992\ttest: 0.8058096\tbest: 0.8056044 (2080)\ttotal: 2m 34s\tremaining: 2m 34s\n",
      "2600:\tlearn: 0.6634098\ttest: 0.8058787\tbest: 0.8056044 (2080)\ttotal: 2m 40s\tremaining: 2m 27s\n",
      "2700:\tlearn: 0.6589814\ttest: 0.8060056\tbest: 0.8056044 (2080)\ttotal: 2m 46s\tremaining: 2m 21s\n",
      "2800:\tlearn: 0.6546931\ttest: 0.8061012\tbest: 0.8056044 (2080)\ttotal: 2m 52s\tremaining: 2m 15s\n",
      "2900:\tlearn: 0.6504848\ttest: 0.8061778\tbest: 0.8056044 (2080)\ttotal: 2m 58s\tremaining: 2m 9s\n",
      "3000:\tlearn: 0.6459215\ttest: 0.8062998\tbest: 0.8056044 (2080)\ttotal: 3m 4s\tremaining: 2m 3s\n",
      "3100:\tlearn: 0.6416731\ttest: 0.8064262\tbest: 0.8056044 (2080)\ttotal: 3m 11s\tremaining: 1m 57s\n",
      "3200:\tlearn: 0.6372726\ttest: 0.8065418\tbest: 0.8056044 (2080)\ttotal: 3m 17s\tremaining: 1m 51s\n",
      "3300:\tlearn: 0.6331783\ttest: 0.8066419\tbest: 0.8056044 (2080)\ttotal: 3m 24s\tremaining: 1m 45s\n",
      "3400:\tlearn: 0.6289716\ttest: 0.8067588\tbest: 0.8056044 (2080)\ttotal: 3m 30s\tremaining: 1m 39s\n",
      "3500:\tlearn: 0.6248462\ttest: 0.8069286\tbest: 0.8056044 (2080)\ttotal: 3m 36s\tremaining: 1m 32s\n",
      "3600:\tlearn: 0.6207449\ttest: 0.8071266\tbest: 0.8056044 (2080)\ttotal: 3m 43s\tremaining: 1m 26s\n",
      "3700:\tlearn: 0.6170301\ttest: 0.8073338\tbest: 0.8056044 (2080)\ttotal: 3m 50s\tremaining: 1m 20s\n",
      "3800:\tlearn: 0.6130593\ttest: 0.8075915\tbest: 0.8056044 (2080)\ttotal: 3m 56s\tremaining: 1m 14s\n",
      "3900:\tlearn: 0.6091307\ttest: 0.8078980\tbest: 0.8056044 (2080)\ttotal: 4m 2s\tremaining: 1m 8s\n",
      "4000:\tlearn: 0.6049025\ttest: 0.8081685\tbest: 0.8056044 (2080)\ttotal: 4m 8s\tremaining: 1m 2s\n",
      "4100:\tlearn: 0.6011519\ttest: 0.8083470\tbest: 0.8056044 (2080)\ttotal: 4m 15s\tremaining: 56s\n",
      "4200:\tlearn: 0.5971572\ttest: 0.8085991\tbest: 0.8056044 (2080)\ttotal: 4m 21s\tremaining: 49.8s\n",
      "4300:\tlearn: 0.5934749\ttest: 0.8088452\tbest: 0.8056044 (2080)\ttotal: 4m 28s\tremaining: 43.6s\n",
      "4400:\tlearn: 0.5894370\ttest: 0.8092168\tbest: 0.8056044 (2080)\ttotal: 4m 34s\tremaining: 37.4s\n",
      "4500:\tlearn: 0.5859001\ttest: 0.8094244\tbest: 0.8056044 (2080)\ttotal: 4m 41s\tremaining: 31.2s\n",
      "4600:\tlearn: 0.5820931\ttest: 0.8096451\tbest: 0.8056044 (2080)\ttotal: 4m 47s\tremaining: 24.9s\n",
      "4700:\tlearn: 0.5782582\ttest: 0.8098822\tbest: 0.8056044 (2080)\ttotal: 4m 53s\tremaining: 18.7s\n",
      "4800:\tlearn: 0.5746194\ttest: 0.8102138\tbest: 0.8056044 (2080)\ttotal: 5m\tremaining: 12.4s\n",
      "4900:\tlearn: 0.5711765\ttest: 0.8104096\tbest: 0.8056044 (2080)\ttotal: 5m 7s\tremaining: 6.2s\n",
      "4999:\tlearn: 0.5674101\ttest: 0.8107349\tbest: 0.8056044 (2080)\ttotal: 5m 13s\tremaining: 0us\n",
      "bestTest = 0.8056043704\n",
      "bestIteration = 2080\n",
      "Shrink model to first 2081 iterations.\n",
      "0.9124481448820831\n",
      "0:\tlearn: 2.4255772\ttest: 2.4250815\tbest: 2.4250815 (0)\ttotal: 61ms\tremaining: 5m 4s\n",
      "100:\tlearn: 0.8438169\ttest: 0.8479854\tbest: 0.8479854 (100)\ttotal: 6.88s\tremaining: 5m 33s\n",
      "200:\tlearn: 0.8104110\ttest: 0.8240092\tbest: 0.8240092 (200)\ttotal: 13.4s\tremaining: 5m 19s\n",
      "300:\tlearn: 0.7937492\ttest: 0.8160529\tbest: 0.8160529 (300)\ttotal: 19.9s\tremaining: 5m 10s\n",
      "400:\tlearn: 0.7824774\ttest: 0.8119394\tbest: 0.8119394 (400)\ttotal: 26s\tremaining: 4m 58s\n",
      "500:\tlearn: 0.7734581\ttest: 0.8093033\tbest: 0.8093033 (500)\ttotal: 32s\tremaining: 4m 47s\n",
      "600:\tlearn: 0.7660545\ttest: 0.8075103\tbest: 0.8075103 (600)\ttotal: 38s\tremaining: 4m 38s\n",
      "700:\tlearn: 0.7595153\ttest: 0.8063834\tbest: 0.8063801 (699)\ttotal: 43.9s\tremaining: 4m 29s\n",
      "800:\tlearn: 0.7535126\ttest: 0.8054808\tbest: 0.8054808 (800)\ttotal: 50.4s\tremaining: 4m 24s\n",
      "900:\tlearn: 0.7478146\ttest: 0.8046025\tbest: 0.8045980 (899)\ttotal: 56.3s\tremaining: 4m 16s\n",
      "1000:\tlearn: 0.7420018\ttest: 0.8038237\tbest: 0.8038237 (1000)\ttotal: 1m 2s\tremaining: 4m 8s\n",
      "1100:\tlearn: 0.7361969\ttest: 0.8031563\tbest: 0.8031563 (1100)\ttotal: 1m 8s\tremaining: 4m 1s\n",
      "1200:\tlearn: 0.7309793\ttest: 0.8026952\tbest: 0.8026952 (1200)\ttotal: 1m 14s\tremaining: 3m 54s\n",
      "1300:\tlearn: 0.7257353\ttest: 0.8023202\tbest: 0.8022977 (1298)\ttotal: 1m 20s\tremaining: 3m 47s\n",
      "1400:\tlearn: 0.7204124\ttest: 0.8019728\tbest: 0.8019728 (1400)\ttotal: 1m 26s\tremaining: 3m 41s\n",
      "1500:\tlearn: 0.7149852\ttest: 0.8017962\tbest: 0.8017793 (1472)\ttotal: 1m 32s\tremaining: 3m 34s\n",
      "1600:\tlearn: 0.7096610\ttest: 0.8014478\tbest: 0.8014453 (1595)\ttotal: 1m 38s\tremaining: 3m 28s\n",
      "1700:\tlearn: 0.7047933\ttest: 0.8011847\tbest: 0.8011829 (1699)\ttotal: 1m 44s\tremaining: 3m 22s\n",
      "1800:\tlearn: 0.7001877\ttest: 0.8011005\tbest: 0.8011005 (1800)\ttotal: 1m 50s\tremaining: 3m 15s\n",
      "1900:\tlearn: 0.6951020\ttest: 0.8010241\tbest: 0.8010173 (1853)\ttotal: 1m 56s\tremaining: 3m 9s\n",
      "2000:\tlearn: 0.6906859\ttest: 0.8009791\tbest: 0.8009318 (1970)\ttotal: 2m 2s\tremaining: 3m 3s\n",
      "2100:\tlearn: 0.6859269\ttest: 0.8009349\tbest: 0.8009240 (2077)\ttotal: 2m 8s\tremaining: 2m 56s\n",
      "2200:\tlearn: 0.6808747\ttest: 0.8009022\tbest: 0.8008917 (2112)\ttotal: 2m 14s\tremaining: 2m 50s\n",
      "2300:\tlearn: 0.6761403\ttest: 0.8009422\tbest: 0.8008917 (2112)\ttotal: 2m 20s\tremaining: 2m 44s\n",
      "2400:\tlearn: 0.6717234\ttest: 0.8009696\tbest: 0.8008917 (2112)\ttotal: 2m 26s\tremaining: 2m 38s\n",
      "2500:\tlearn: 0.6672440\ttest: 0.8010191\tbest: 0.8008917 (2112)\ttotal: 2m 32s\tremaining: 2m 32s\n",
      "2600:\tlearn: 0.6627929\ttest: 0.8011122\tbest: 0.8008917 (2112)\ttotal: 2m 38s\tremaining: 2m 26s\n",
      "2700:\tlearn: 0.6582241\ttest: 0.8012612\tbest: 0.8008917 (2112)\ttotal: 2m 44s\tremaining: 2m 20s\n",
      "2800:\tlearn: 0.6533170\ttest: 0.8013595\tbest: 0.8008917 (2112)\ttotal: 2m 50s\tremaining: 2m 14s\n",
      "2900:\tlearn: 0.6491324\ttest: 0.8015513\tbest: 0.8008917 (2112)\ttotal: 2m 57s\tremaining: 2m 8s\n",
      "3000:\tlearn: 0.6445087\ttest: 0.8017532\tbest: 0.8008917 (2112)\ttotal: 3m 3s\tremaining: 2m 2s\n",
      "3100:\tlearn: 0.6401957\ttest: 0.8019451\tbest: 0.8008917 (2112)\ttotal: 3m 9s\tremaining: 1m 56s\n",
      "3200:\tlearn: 0.6356181\ttest: 0.8022431\tbest: 0.8008917 (2112)\ttotal: 3m 15s\tremaining: 1m 50s\n",
      "3300:\tlearn: 0.6316615\ttest: 0.8024817\tbest: 0.8008917 (2112)\ttotal: 3m 21s\tremaining: 1m 43s\n",
      "3400:\tlearn: 0.6278670\ttest: 0.8026382\tbest: 0.8008917 (2112)\ttotal: 3m 27s\tremaining: 1m 37s\n",
      "3500:\tlearn: 0.6241070\ttest: 0.8028379\tbest: 0.8008917 (2112)\ttotal: 3m 34s\tremaining: 1m 31s\n",
      "3600:\tlearn: 0.6201667\ttest: 0.8031439\tbest: 0.8008917 (2112)\ttotal: 3m 40s\tremaining: 1m 25s\n",
      "3700:\tlearn: 0.6160642\ttest: 0.8033801\tbest: 0.8008917 (2112)\ttotal: 3m 46s\tremaining: 1m 19s\n",
      "3800:\tlearn: 0.6121829\ttest: 0.8036291\tbest: 0.8008917 (2112)\ttotal: 3m 52s\tremaining: 1m 13s\n",
      "3900:\tlearn: 0.6083089\ttest: 0.8038674\tbest: 0.8008917 (2112)\ttotal: 3m 58s\tremaining: 1m 7s\n",
      "4000:\tlearn: 0.6041373\ttest: 0.8041054\tbest: 0.8008917 (2112)\ttotal: 4m 5s\tremaining: 1m 1s\n",
      "4100:\tlearn: 0.6002389\ttest: 0.8043796\tbest: 0.8008917 (2112)\ttotal: 4m 11s\tremaining: 55.1s\n",
      "4200:\tlearn: 0.5965757\ttest: 0.8046359\tbest: 0.8008917 (2112)\ttotal: 4m 17s\tremaining: 49s\n",
      "4300:\tlearn: 0.5928891\ttest: 0.8049122\tbest: 0.8008917 (2112)\ttotal: 4m 23s\tremaining: 42.9s\n",
      "4400:\tlearn: 0.5891466\ttest: 0.8052884\tbest: 0.8008917 (2112)\ttotal: 4m 29s\tremaining: 36.7s\n",
      "4500:\tlearn: 0.5851135\ttest: 0.8056530\tbest: 0.8008917 (2112)\ttotal: 4m 36s\tremaining: 30.6s\n",
      "4600:\tlearn: 0.5811838\ttest: 0.8059475\tbest: 0.8008917 (2112)\ttotal: 4m 42s\tremaining: 24.5s\n",
      "4700:\tlearn: 0.5775916\ttest: 0.8062322\tbest: 0.8008917 (2112)\ttotal: 4m 48s\tremaining: 18.4s\n",
      "4800:\tlearn: 0.5738211\ttest: 0.8066233\tbest: 0.8008917 (2112)\ttotal: 4m 54s\tremaining: 12.2s\n",
      "4900:\tlearn: 0.5700369\ttest: 0.8068630\tbest: 0.8008917 (2112)\ttotal: 5m 1s\tremaining: 6.08s\n",
      "4999:\tlearn: 0.5663560\ttest: 0.8071369\tbest: 0.8008917 (2112)\ttotal: 5m 7s\tremaining: 0us\n",
      "bestTest = 0.8008917003\n",
      "bestIteration = 2112\n",
      "Shrink model to first 2113 iterations.\n",
      "0.9082670729750258\n"
     ]
    }
   ],
   "execution_count": 30
  },
  {
   "cell_type": "code",
   "metadata": {
    "ExecuteTime": {
     "end_time": "2024-04-14T18:12:02.901007Z",
     "start_time": "2024-04-14T18:12:02.897237Z"
    }
   },
   "source": [
    "scores = list(dct.keys())\n",
    "scores.sort(reverse=True)\n",
    "sorted_dct = {i: dct[i] for i in scores}\n",
    "sorted_dct"
   ],
   "outputs": [
    {
     "data": {
      "text/plain": [
       "{0.9124481448820831: <catboost.core.CatBoostClassifier at 0x24b0775f860>,\n",
       " 0.9082670729750258: <catboost.core.CatBoostClassifier at 0x24b00577800>,\n",
       " 0.8994552638748404: <catboost.core.CatBoostClassifier at 0x24b01139df0>}"
      ]
     },
     "execution_count": 31,
     "metadata": {},
     "output_type": "execute_result"
    }
   ],
   "execution_count": 31
  },
  {
   "metadata": {
    "ExecuteTime": {
     "end_time": "2024-04-14T18:12:02.904291Z",
     "start_time": "2024-04-14T18:12:02.901516Z"
    }
   },
   "cell_type": "code",
   "source": [
    "result_score_on_test = sum(sorted_dct.keys()) / len(sorted_dct)\n",
    "print(f'Score on test: {result_score_on_test}')"
   ],
   "outputs": [
    {
     "name": "stdout",
     "output_type": "stream",
     "text": [
      "Score on test: 0.9067234939106498\n"
     ]
    }
   ],
   "execution_count": 32
  },
  {
   "metadata": {},
   "cell_type": "markdown",
   "source": [
    "0.9108217807419258"
   ]
  },
  {
   "cell_type": "code",
   "metadata": {
    "ExecuteTime": {
     "end_time": "2024-04-14T18:12:02.908253Z",
     "start_time": "2024-04-14T18:12:02.904805Z"
    }
   },
   "source": [
    "def softmax(values):\n",
    "    exp_values = np.exp(values)\n",
    "\n",
    "    exp_values_sum = np.sum(exp_values)\n",
    "\n",
    "    return exp_values / exp_values_sum\n",
    "\n",
    "\n",
    "weights = softmax(scores)\n",
    "weights"
   ],
   "outputs": [
    {
     "data": {
      "text/plain": [
       "array([0.33524211, 0.33384337, 0.33091452])"
      ]
     },
     "execution_count": 33,
     "metadata": {},
     "output_type": "execute_result"
    }
   ],
   "execution_count": 33
  },
  {
   "metadata": {},
   "cell_type": "markdown",
   "source": []
  },
  {
   "cell_type": "code",
   "metadata": {
    "ExecuteTime": {
     "end_time": "2024-04-14T18:12:04.681937Z",
     "start_time": "2024-04-14T18:12:02.909002Z"
    }
   },
   "source": [
    "final_pred = 0\n",
    "for weight, model in zip(weights, sorted_dct.values()):\n",
    "    final_pred += weight * model.predict_proba(X)"
   ],
   "outputs": [],
   "execution_count": 34
  },
  {
   "cell_type": "code",
   "metadata": {
    "ExecuteTime": {
     "end_time": "2024-04-14T18:12:05.614613Z",
     "start_time": "2024-04-14T18:12:04.682676Z"
    }
   },
   "source": [
    "result_score_on_train = weighted_roc_auc(y, final_pred, labels=catboost.classes_)\n",
    "print(f'Score on train: {result_score_on_train}')"
   ],
   "outputs": [
    {
     "name": "stdout",
     "output_type": "stream",
     "text": [
      "Score on train: 0.9608663717025702\n"
     ]
    }
   ],
   "execution_count": 35
  },
  {
   "cell_type": "markdown",
   "metadata": {},
   "source": [
    "# Test"
   ]
  },
  {
   "cell_type": "code",
   "metadata": {
    "ExecuteTime": {
     "end_time": "2024-04-14T18:12:06.544524Z",
     "start_time": "2024-04-14T18:12:05.615359Z"
    }
   },
   "source": [
    "test_pred_proba = 0\n",
    "for weight, model in zip(weights, sorted_dct.values()):\n",
    "    test_pred_proba += weight * model.predict_proba(test_df_pivot)\n",
    "\n",
    "test_pred_proba"
   ],
   "outputs": [
    {
     "data": {
      "text/plain": [
       "array([[1.04184892e-02, 1.38010684e-02, 2.36922858e-02, ...,\n",
       "        1.83878986e-03, 8.85755932e-01, 5.35173233e-06],\n",
       "       [5.95239506e-03, 5.15097573e-01, 7.98071615e-04, ...,\n",
       "        5.41615526e-04, 4.64228192e-01, 6.98009526e-04],\n",
       "       [5.89246625e-01, 6.07388789e-03, 3.87994298e-03, ...,\n",
       "        6.32092872e-02, 1.07028279e-01, 1.82014542e-05],\n",
       "       ...,\n",
       "       [3.64979470e-02, 3.53690477e-02, 2.99999380e-02, ...,\n",
       "        2.17838434e-02, 7.62211915e-01, 1.07412020e-05],\n",
       "       [1.31077631e-01, 1.17278670e-01, 1.80178026e-02, ...,\n",
       "        1.06963863e-02, 5.98808431e-01, 1.83014559e-03],\n",
       "       [2.14085450e-02, 7.43187579e-02, 1.21330837e-02, ...,\n",
       "        4.68684222e-03, 7.98761672e-01, 1.86583441e-04]])"
      ]
     },
     "execution_count": 36,
     "metadata": {},
     "output_type": "execute_result"
    }
   ],
   "execution_count": 36
  },
  {
   "cell_type": "code",
   "metadata": {
    "ExecuteTime": {
     "end_time": "2024-04-14T18:12:06.559292Z",
     "start_time": "2024-04-14T18:12:06.545033Z"
    }
   },
   "source": [
    "test_pred_proba_df = pd.DataFrame(test_pred_proba, columns=catboost.classes_)\n",
    "\n",
    "sorted_classes = sorted(test_pred_proba_df.columns.to_list())\n",
    "\n",
    "test_pred_proba_df = test_pred_proba_df[sorted_classes]\n",
    "test_pred_proba_df.head(2)"
   ],
   "outputs": [
    {
     "data": {
      "text/plain": [
       "    {other}        {}    {α, β}    {α, γ}    {α, δ}  {α, ε, η}  {α, ε, θ}  \\\n",
       "0  0.010418  0.013801  0.023692  0.019799  0.004646   0.000195   0.005760   \n",
       "1  0.005952  0.515098  0.000798  0.001797  0.000650   0.000196   0.000403   \n",
       "\n",
       "   {α, ε, ψ}    {α, ε}    {α, η}    {α, θ}    {α, λ}    {α, μ}    {α, π}  \\\n",
       "0   0.000140  0.010103  0.004036  0.017848  0.000527  0.001423  0.000011   \n",
       "1   0.000013  0.001480  0.005531  0.001384  0.000580  0.000650  0.000002   \n",
       "\n",
       "     {α, ψ}       {α}       {λ}  \n",
       "0  0.001839  0.885756  0.000005  \n",
       "1  0.000542  0.464228  0.000698  "
      ],
      "text/html": [
       "<div>\n",
       "<style scoped>\n",
       "    .dataframe tbody tr th:only-of-type {\n",
       "        vertical-align: middle;\n",
       "    }\n",
       "\n",
       "    .dataframe tbody tr th {\n",
       "        vertical-align: top;\n",
       "    }\n",
       "\n",
       "    .dataframe thead th {\n",
       "        text-align: right;\n",
       "    }\n",
       "</style>\n",
       "<table border=\"1\" class=\"dataframe\">\n",
       "  <thead>\n",
       "    <tr style=\"text-align: right;\">\n",
       "      <th></th>\n",
       "      <th>{other}</th>\n",
       "      <th>{}</th>\n",
       "      <th>{α, β}</th>\n",
       "      <th>{α, γ}</th>\n",
       "      <th>{α, δ}</th>\n",
       "      <th>{α, ε, η}</th>\n",
       "      <th>{α, ε, θ}</th>\n",
       "      <th>{α, ε, ψ}</th>\n",
       "      <th>{α, ε}</th>\n",
       "      <th>{α, η}</th>\n",
       "      <th>{α, θ}</th>\n",
       "      <th>{α, λ}</th>\n",
       "      <th>{α, μ}</th>\n",
       "      <th>{α, π}</th>\n",
       "      <th>{α, ψ}</th>\n",
       "      <th>{α}</th>\n",
       "      <th>{λ}</th>\n",
       "    </tr>\n",
       "  </thead>\n",
       "  <tbody>\n",
       "    <tr>\n",
       "      <th>0</th>\n",
       "      <td>0.010418</td>\n",
       "      <td>0.013801</td>\n",
       "      <td>0.023692</td>\n",
       "      <td>0.019799</td>\n",
       "      <td>0.004646</td>\n",
       "      <td>0.000195</td>\n",
       "      <td>0.005760</td>\n",
       "      <td>0.000140</td>\n",
       "      <td>0.010103</td>\n",
       "      <td>0.004036</td>\n",
       "      <td>0.017848</td>\n",
       "      <td>0.000527</td>\n",
       "      <td>0.001423</td>\n",
       "      <td>0.000011</td>\n",
       "      <td>0.001839</td>\n",
       "      <td>0.885756</td>\n",
       "      <td>0.000005</td>\n",
       "    </tr>\n",
       "    <tr>\n",
       "      <th>1</th>\n",
       "      <td>0.005952</td>\n",
       "      <td>0.515098</td>\n",
       "      <td>0.000798</td>\n",
       "      <td>0.001797</td>\n",
       "      <td>0.000650</td>\n",
       "      <td>0.000196</td>\n",
       "      <td>0.000403</td>\n",
       "      <td>0.000013</td>\n",
       "      <td>0.001480</td>\n",
       "      <td>0.005531</td>\n",
       "      <td>0.001384</td>\n",
       "      <td>0.000580</td>\n",
       "      <td>0.000650</td>\n",
       "      <td>0.000002</td>\n",
       "      <td>0.000542</td>\n",
       "      <td>0.464228</td>\n",
       "      <td>0.000698</td>\n",
       "    </tr>\n",
       "  </tbody>\n",
       "</table>\n",
       "</div>"
      ]
     },
     "execution_count": 37,
     "metadata": {},
     "output_type": "execute_result"
    }
   ],
   "execution_count": 37
  },
  {
   "cell_type": "code",
   "metadata": {
    "ExecuteTime": {
     "end_time": "2024-04-14T18:12:09.154216Z",
     "start_time": "2024-04-14T18:12:06.560043Z"
    }
   },
   "source": [
    "sample_submission_df = pd.read_csv('submissions/sample_submission.csv')\n",
    "\n",
    "sample_submission_df[sorted_classes] = test_pred_proba_df\n",
    "sample_submission_df.to_csv(\"submissions/blending_new.csv\", index=False)"
   ],
   "outputs": [],
   "execution_count": 38
  },
  {
   "metadata": {
    "ExecuteTime": {
     "end_time": "2024-04-14T18:12:09.156861Z",
     "start_time": "2024-04-14T18:12:09.154723Z"
    }
   },
   "cell_type": "code",
   "source": [],
   "outputs": [],
   "execution_count": 38
  }
 ],
 "metadata": {
  "kernelspec": {
   "display_name": "base",
   "language": "python",
   "name": "python3"
  },
  "language_info": {
   "codemirror_mode": {
    "name": "ipython",
    "version": 3
   },
   "file_extension": ".py",
   "mimetype": "text/x-python",
   "name": "python",
   "nbconvert_exporter": "python",
   "pygments_lexer": "ipython3",
   "version": "3.11.6"
  }
 },
 "nbformat": 4,
 "nbformat_minor": 2
}
